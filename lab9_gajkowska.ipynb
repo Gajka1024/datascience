{
 "cells": [
  {
   "cell_type": "code",
   "execution_count": 19,
   "metadata": {},
   "outputs": [],
   "source": [
    "from machine_learning import split_data\n",
    "from collections import defaultdict, Counter\n",
    "from sklearn.naive_bayes import GaussianNB\n",
    "from sklearn import preprocessing\n",
    "import re\n",
    "import glob\n",
    "import random, math"
   ]
  },
  {
   "cell_type": "code",
   "execution_count": 20,
   "metadata": {},
   "outputs": [],
   "source": [
    "#funkcja dzieląca wiadomości na pojedyńcze słowa \n",
    "def tokenize(message):\n",
    "    message = message.lower()\n",
    "    all_words = re.findall(\"[a-z0-9]+\", message)\n",
    "    return set(all_words)"
   ]
  },
  {
   "cell_type": "code",
   "execution_count": 21,
   "metadata": {},
   "outputs": [],
   "source": [
    "# zliczanie słów oznaczynych etykietami\n",
    "def count_words(training_set):\n",
    "    counts = defaultdict(lambda: [0,0])\n",
    "    for message, is_spam in training_set:\n",
    "        for word in tokenize(message):\n",
    "            counts[word][0 if is_spam else 1] += 1\n",
    "    return counts"
   ]
  },
  {
   "cell_type": "code",
   "execution_count": 22,
   "metadata": {},
   "outputs": [],
   "source": [
    "# zamiana sum na szacunki prawdopodobieństwa\n",
    "def word_probabilities(counts, total_spams, total_non_spams, k=0.5):\n",
    "    return [(w,\n",
    "             (spam + k) / (total_spams + 2 * k),\n",
    "             (non_spam + k) / (total_non_spams + 2 * k))\n",
    "             for w, (spam, non_spam) in counts.items()]"
   ]
  },
  {
   "cell_type": "code",
   "execution_count": 23,
   "metadata": {},
   "outputs": [],
   "source": [
    "# wykorzystanie klasyfikatora do przypisania prawdopodobieństwa do wiadomości\n",
    "def spam_probability(word_probs, message):\n",
    "    message_words = tokenize(message)\n",
    "    log_prob_if_spam = log_prob_if_not_spam = 0.0\n",
    "    #iteracja po słowach\n",
    "    for word, prob_if_spam, prob_if_not_spam in word_probs:\n",
    "        if word in message_words:\n",
    "            log_prob_if_spam += math.log(prob_if_spam)\n",
    "            log_prob_if_not_spam += math.log(prob_if_not_spam)\n",
    "        else:\n",
    "            log_prob_if_spam += math.log(1.0 - prob_if_spam)\n",
    "            log_prob_if_not_spam += math.log(1.0 - prob_if_not_spam)\n",
    "\n",
    "    prob_if_spam = math.exp(log_prob_if_spam)\n",
    "    prob_if_not_spam = math.exp(log_prob_if_not_spam)\n",
    "    return prob_if_spam / (prob_if_spam + prob_if_not_spam)"
   ]
  },
  {
   "cell_type": "code",
   "execution_count": 24,
   "metadata": {},
   "outputs": [],
   "source": [
    "# połączenie elementów w celu uzyskania klasyfikatora\n",
    "\n",
    "class NaiveBayesClassifier:\n",
    "    def __init__(self, k=0.6):\n",
    "        self.k = k\n",
    "        self.word_probs = []\n",
    "\n",
    "    def train(self, training_set):\n",
    "        #policzenie wiadomości będących/niebędących spamem\n",
    "        num_spams = len([is_spam\n",
    "                         for message, is_spam in training_set\n",
    "                         if is_spam])\n",
    "        num_non_spams = len(training_set) - num_spams\n",
    "        \n",
    "        #powtórzenie na zbiorze treningowym\n",
    "        word_counts = count_words(training_set)\n",
    "        self.word_probs = word_probabilities(word_counts,\n",
    "                                             num_spams,\n",
    "                                             num_non_spams,\n",
    "                                             self.k)\n",
    "\n",
    "    def classify(self, message):\n",
    "        return spam_probability(self.word_probs, message)"
   ]
  },
  {
   "cell_type": "code",
   "execution_count": 25,
   "metadata": {},
   "outputs": [
    {
     "name": "stdout",
     "output_type": "stream",
     "text": [
      "Counter({(True, True): 211})\n",
      "\n",
      "\n",
      "\n",
      "spammiest_hams []\n",
      "\n",
      "\n",
      "\n",
      "hammiest_spams [('Life Insurance - Why Pay More?', True, 1.0), ('[ILUG] Guaranteed to lose 10-12 lbs in 30 days 10.206', True, 1.0), ('FORTUNE 500 COMPANY HIRING, AT HOME REPS.', True, 1.0), ('^^^^^Cell Phone Belt Clips $1.95^^^^^^                           18070', True, 1.0), ('FREE Cell Phone + $50 Cash Back!', True, 1.0)]\n",
      "\n",
      "\n",
      "\n"
     ]
    }
   ],
   "source": [
    "path = r\"C:\\\\Users\\\\Y700\\\\Desktop\\\\PYTHON\\\\spam\\\\*\"\n",
    "data = []\n",
    "\n",
    "for fn in glob.glob(path):\n",
    "    is_spam = \"ham\" not in fn\n",
    "\n",
    "    with open(fn,'r',encoding='ISO-8859-1') as file:\n",
    "        for line in file:\n",
    "            if line.startswith(\"Subject:\"):\n",
    "                subject = re.sub(r\"^Subject: \", \"\", line).strip()\n",
    "                data.append((subject, is_spam))\n",
    "                \n",
    "random.seed(0)\n",
    "train_data, test_data = split_data(data, 0.6)\n",
    "\n",
    "classifier = NaiveBayesClassifier()\n",
    "classifier.train(train_data)\n",
    "\n",
    "classified = [(subject, is_spam, classifier.classify(subject))\n",
    "              for subject, is_spam in test_data]\n",
    "\n",
    "counts = Counter((is_spam, spam_probability > 0.6)\n",
    "                 for _, is_spam, spam_probability in classified)\n",
    "\n",
    "print(counts)\n",
    "print('\\n\\n')\n",
    "\n",
    "#sortowanie wg spam_probability\n",
    "classified.sort(key=lambda row: row[2])\n",
    "    \n",
    "spammiest_hams = list(filter(lambda row: not row[1], classified))[-5:]\n",
    "hammiest_spams = list(filter(lambda row: row[1], classified))[:5]\n",
    "\n",
    "print(\"spammiest_hams\", spammiest_hams)\n",
    "print('\\n\\n')\n",
    "\n",
    "print(\"hammiest_spams\", hammiest_spams)\n",
    "print('\\n\\n')\n",
    "    "
   ]
  },
  {
   "cell_type": "code",
   "execution_count": 26,
   "metadata": {},
   "outputs": [
    {
     "name": "stdout",
     "output_type": "stream",
     "text": [
      "spammiest_hams []\n",
      "\n",
      "\n",
      "\n",
      "hammiest_spams [('Life Insurance - Why Pay More?', True, 1.0), ('[ILUG] Guaranteed to lose 10-12 lbs in 30 days 10.206', True, 1.0), ('FORTUNE 500 COMPANY HIRING, AT HOME REPS.', True, 1.0), ('^^^^^Cell Phone Belt Clips $1.95^^^^^^                           18070', True, 1.0), ('FREE Cell Phone + $50 Cash Back!', True, 1.0)]\n",
      "\n",
      "\n",
      "\n"
     ]
    }
   ],
   "source": [
    "# najczęściej używane słowa w spamie\n",
    "def p_spam_given_word(word_prob):\n",
    "    word, prob_if_spam, prob_if_not_spam = word_prob\n",
    "    return prob_if_spam / (prob_if_spam + prob_if_not_spam)\n",
    "\n",
    "words = sorted(classifier.word_probs, key=p_spam_given_word)\n",
    "\n",
    "spammiest_words = words[-5:]\n",
    "hammiest_words = words[:5]\n",
    "\n",
    "print(\"spammiest_hams\", spammiest_hams)\n",
    "print('\\n\\n')\n",
    "\n",
    "print(\"hammiest_spams\", hammiest_spams)\n",
    "print('\\n\\n')"
   ]
  },
  {
   "cell_type": "code",
   "execution_count": 14,
   "metadata": {},
   "outputs": [],
   "source": []
  },
  {
   "cell_type": "code",
   "execution_count": 17,
   "metadata": {},
   "outputs": [],
   "source": []
  },
  {
   "cell_type": "code",
   "execution_count": null,
   "metadata": {},
   "outputs": [],
   "source": []
  },
  {
   "cell_type": "code",
   "execution_count": null,
   "metadata": {},
   "outputs": [],
   "source": []
  }
 ],
 "metadata": {
  "kernelspec": {
   "display_name": "Python 3",
   "language": "python",
   "name": "python3"
  },
  "language_info": {
   "codemirror_mode": {
    "name": "ipython",
    "version": 3
   },
   "file_extension": ".py",
   "mimetype": "text/x-python",
   "name": "python",
   "nbconvert_exporter": "python",
   "pygments_lexer": "ipython3",
   "version": "3.7.4"
  }
 },
 "nbformat": 4,
 "nbformat_minor": 2
}
