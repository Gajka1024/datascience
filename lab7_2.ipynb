{
 "cells": [
  {
   "cell_type": "code",
   "execution_count": 1,
   "metadata": {},
   "outputs": [],
   "source": [
    "import numpy as np\n",
    "import pandas as pd\n",
    "\n",
    "def activate(x):\n",
    "  if x < 0 or x==False:\n",
    "    return 0\n",
    "  return 1\n"
   ]
  },
  {
   "cell_type": "code",
   "execution_count": 6,
   "metadata": {},
   "outputs": [
    {
     "name": "stdout",
     "output_type": "stream",
     "text": [
      "   X1  X2  Wynik\n",
      "0   0   0      0\n",
      "   X1  X2  Wynik\n",
      "0   0   1      0\n",
      "   X1  X2  Wynik\n",
      "0   1   0      0\n",
      "   X1  X2  Wynik\n",
      "0   1   1      1\n"
     ]
    }
   ],
   "source": [
    "# bramka logiczna AND\n",
    "AND = 1 * -1.5\n",
    "data = [[0,0],\n",
    "        [0,1],\n",
    "        [1,0],\n",
    "        [1,1]]\n",
    "\n",
    "for x in data:\n",
    "    result = activate(AND + x[0] + x[1])\n",
    "    gate_result = pd.DataFrame(data = {'X1' : x[0], \n",
    "                                'X2' : x[1], \n",
    "                                'Wynik' : result}, \n",
    "                                index=[0])\n",
    "    print(gate_result)"
   ]
  },
  {
   "cell_type": "code",
   "execution_count": 9,
   "metadata": {},
   "outputs": [
    {
     "name": "stdout",
     "output_type": "stream",
     "text": [
      "   X1  X2  Wynik\n",
      "0   0   0      0\n",
      "   X1  X2  Wynik\n",
      "0   0   1      1\n",
      "   X1  X2  Wynik\n",
      "0   1   0      1\n",
      "   X1  X2  Wynik\n",
      "0   1   1      1\n"
     ]
    }
   ],
   "source": [
    "# bramka logiczna OR\n",
    "gate_OR = 1 * -0.5\n",
    "\n",
    "for x in data:\n",
    "    result = activate(gate_OR + x[0] + x[1])\n",
    "    gate_result = pd.DataFrame(data = {'X1' : x[0], \n",
    "                                'X2' : x[1], \n",
    "                                'Wynik' : result}, \n",
    "                                index=[0])\n",
    "    print(gate_result)"
   ]
  },
  {
   "cell_type": "code",
   "execution_count": 10,
   "metadata": {},
   "outputs": [
    {
     "name": "stdout",
     "output_type": "stream",
     "text": [
      "   X1  Wynik\n",
      "0   0      1\n",
      "   X1  Wynik\n",
      "0   1      0\n"
     ]
    }
   ],
   "source": [
    "# bramka logiczna NOT\n",
    "gate_OR = 1 \n",
    "data = [[0],\n",
    "        [1]]\n",
    "\n",
    "for x in data:\n",
    "    result = activate(1 - 2*x[0])\n",
    "    gate_result = pd.DataFrame(data = {'X1' : x[0], \n",
    "                                'Wynik' : result}, \n",
    "                                index=[0])\n",
    "    print(gate_result)"
   ]
  },
  {
   "cell_type": "code",
   "execution_count": null,
   "metadata": {},
   "outputs": [],
   "source": []
  },
  {
   "cell_type": "code",
   "execution_count": 16,
   "metadata": {},
   "outputs": [
    {
     "name": "stdout",
     "output_type": "stream",
     "text": [
      "   X1  X2  Wynik\n",
      "0   0   0      1\n",
      "   X1  X2  Wynik\n",
      "0   0   1      0\n",
      "   X1  X2  Wynik\n",
      "0   1   0      0\n",
      "   X1  X2  Wynik\n",
      "0   1   1      1\n"
     ]
    }
   ],
   "source": [
    "# bramka logiczna XNOR\n",
    "\n",
    "for x in data:\n",
    "    a1 = activate(0.5 - x[0] - x[1])\n",
    "    a2 = activate(-1.5 + x[0] + x[1])\n",
    "    result = activate(-0.5 + a1 + a2)\n",
    "    gate_result = pd.DataFrame(data = {'X1' : x[0], \n",
    "                                'X2' : x[1], \n",
    "                                'Wynik' : result}, \n",
    "                                index=[0])\n",
    "    print(gate_result)\n"
   ]
  },
  {
   "cell_type": "code",
   "execution_count": 18,
   "metadata": {},
   "outputs": [
    {
     "name": "stdout",
     "output_type": "stream",
     "text": [
      "   X1  X2  Wynik\n",
      "0   0   0      0\n",
      "   X1  X2  Wynik\n",
      "0   0   1      1\n",
      "   X1  X2  Wynik\n",
      "0   1   0      1\n",
      "   X1  X2  Wynik\n",
      "0   1   1      0\n"
     ]
    }
   ],
   "source": [
    "# bramka logiczna XOR\n",
    "\n",
    "for x in data:\n",
    "    a1 = activate(0.5 - x[0] - x[1])\n",
    "    a2 = activate(-1.5 + x[0] + x[1])\n",
    "    result = activate(-0.5 + a1 + a2)\n",
    "    result = activate(1 - 2*result)\n",
    "    gate_result = pd.DataFrame(data = {'X1' : x[0], \n",
    "                                'X2' : x[1], \n",
    "                                'Wynik' : result}, \n",
    "                                index=[0])\n",
    "    print(gate_result)"
   ]
  },
  {
   "cell_type": "code",
   "execution_count": null,
   "metadata": {},
   "outputs": [],
   "source": []
  }
 ],
 "metadata": {
  "kernelspec": {
   "display_name": "Python 3",
   "language": "python",
   "name": "python3"
  },
  "language_info": {
   "codemirror_mode": {
    "name": "ipython",
    "version": 3
   },
   "file_extension": ".py",
   "mimetype": "text/x-python",
   "name": "python",
   "nbconvert_exporter": "python",
   "pygments_lexer": "ipython3",
   "version": "3.7.4"
  }
 },
 "nbformat": 4,
 "nbformat_minor": 2
}
